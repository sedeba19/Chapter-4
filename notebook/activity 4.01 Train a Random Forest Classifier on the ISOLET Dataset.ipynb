{
 "cells": [
  {
   "cell_type": "code",
   "execution_count": 1,
   "metadata": {},
   "outputs": [],
   "source": [
    "import pandas as pd\n",
    "from sklearn.model_selection import train_test_split\n",
    "from sklearn.ensemble import RandomForestClassifier\n",
    "from sklearn.metrics import accuracy_score"
   ]
  },
  {
   "cell_type": "code",
   "execution_count": 2,
   "metadata": {},
   "outputs": [],
   "source": [
    "file_url =r'https://raw.githubusercontent.com/sedeba19/Chapter-4/main/data/Dataset_openml_phpZNNasq.csv'"
   ]
  },
  {
   "cell_type": "code",
   "execution_count": 3,
   "metadata": {},
   "outputs": [],
   "source": [
    "df = pd.read_csv(file_url)"
   ]
  },
  {
   "cell_type": "code",
   "execution_count": 4,
   "metadata": {},
   "outputs": [],
   "source": [
    "y = df.pop('class')\n",
    "\n",
    "X_train, X_test, y_train, y_test = train_test_split(df,\n",
    "                                                    y,\n",
    "                                                    test_size= 0.3,\n",
    "                                                    random_state=123)"
   ]
  },
  {
   "cell_type": "code",
   "execution_count": 7,
   "metadata": {},
   "outputs": [],
   "source": [
    "# Create a model function\n",
    "def train_rf (X_train, y_train, random_state = 123,\n",
    "              n_estimators = 10, max_dept = None,\n",
    "              min_samples_leaf = 1, max_features = 'sqrt'):\n",
    "    rf_model = RandomForestClassifier(random_state=random_state,\n",
    "                                      n_estimators=n_estimators,\n",
    "                                      max_depth=max_dept,\n",
    "                                      max_features=max_features)\n",
    "    rf_model.fit(X_train, y_train)\n",
    "    return rf_model"
   ]
  },
  {
   "cell_type": "code",
   "execution_count": 9,
   "metadata": {},
   "outputs": [
    {
     "data": {
      "text/plain": [
       "{'bootstrap': True,\n",
       " 'ccp_alpha': 0.0,\n",
       " 'class_weight': None,\n",
       " 'criterion': 'gini',\n",
       " 'max_depth': None,\n",
       " 'max_features': 'sqrt',\n",
       " 'max_leaf_nodes': None,\n",
       " 'max_samples': None,\n",
       " 'min_impurity_decrease': 0.0,\n",
       " 'min_samples_leaf': 1,\n",
       " 'min_samples_split': 2,\n",
       " 'min_weight_fraction_leaf': 0.0,\n",
       " 'n_estimators': 10,\n",
       " 'n_jobs': None,\n",
       " 'oob_score': False,\n",
       " 'random_state': 123,\n",
       " 'verbose': 0,\n",
       " 'warm_start': False}"
      ]
     },
     "execution_count": 9,
     "metadata": {},
     "output_type": "execute_result"
    }
   ],
   "source": [
    "rf_1 = train_rf(X_train, y_train)\n",
    "rf_1.get_params()"
   ]
  },
  {
   "cell_type": "code",
   "execution_count": 10,
   "metadata": {},
   "outputs": [],
   "source": [
    "# Create a function for prediction\n",
    "def get_preds(rf_model, X_train, X_test):\n",
    "    train_preds = rf_model.predict(X_train)\n",
    "    test_preds = rf_model.predict(X_test)\n",
    "    return train_preds, test_preds"
   ]
  },
  {
   "cell_type": "code",
   "execution_count": 11,
   "metadata": {},
   "outputs": [],
   "source": [
    "trn_preds, tst_preds = get_preds(rf_1, X_train, X_test)"
   ]
  },
  {
   "cell_type": "code",
   "execution_count": 13,
   "metadata": {},
   "outputs": [],
   "source": [
    "# Create a function for accuracy\n",
    "def print_acc(y_train, y_test, trn_preds, tst_preds):\n",
    "    train_acc = accuracy_score(y_train, trn_preds)\n",
    "    test_acc = accuracy_score(y_test, tst_preds)\n",
    "    print(train_acc)\n",
    "    print(test_acc)\n",
    "    return train_acc, test_acc"
   ]
  },
  {
   "cell_type": "code",
   "execution_count": 14,
   "metadata": {},
   "outputs": [
    {
     "name": "stdout",
     "output_type": "stream",
     "text": [
      "0.998533993036467\n",
      "0.9012820512820513\n"
     ]
    }
   ],
   "source": [
    "trn_acc, tst_preds = print_acc(y_train, y_test, trn_preds, tst_preds)"
   ]
  },
  {
   "cell_type": "code",
   "execution_count": 18,
   "metadata": {},
   "outputs": [],
   "source": [
    "# Create a function that will return model trained, predictions, and accuracy scores for training and testing sets\n",
    "def fit_predict_rf(X_train, X_test, y_train, y_test,\n",
    "                   random_state = 123, n_estimators = 10,\n",
    "                   max_depth = None, min_sample_leaf = 1,\n",
    "                   max_features = 'sqrt'):\n",
    "    rf_model = train_rf(X_train, y_train,\n",
    "                        random_state=123,\n",
    "                        n_estimators=n_estimators,\n",
    "                        max_dept=max_depth,\n",
    "                        min_samples_leaf=min_sample_leaf,\n",
    "                        max_features=max_features)\n",
    "    train1_preds, test1_preds = get_preds(rf_model, X_train, X_test)\n",
    "    train_acc, test_acc = print_acc(y_train, y_test, train1_preds, test1_preds)\n",
    "    return rf_model, train1_preds, test1_preds, train_acc, test_acc    \n"
   ]
  },
  {
   "cell_type": "code",
   "execution_count": 19,
   "metadata": {},
   "outputs": [
    {
     "name": "stdout",
     "output_type": "stream",
     "text": [
      "1.0\n",
      "0.9217948717948717\n"
     ]
    }
   ],
   "source": [
    "rf_model_1, trn_preds_1, tst_preds_1, trn_acc_1, tst_acc_1 = fit_predict_rf(X_train, \n",
    "                                                                            X_test, \n",
    "                                                                            y_train, \n",
    "                                                                            y_test, \n",
    "                                                                            random_state=123, \n",
    "                                                                            n_estimators=20, \n",
    "                                                                            max_depth=None, \n",
    "                                                                            min_sample_leaf=1, \n",
    "                                                                            max_features='sqrt')"
   ]
  },
  {
   "cell_type": "code",
   "execution_count": 21,
   "metadata": {},
   "outputs": [
    {
     "name": "stdout",
     "output_type": "stream",
     "text": [
      "1.0\n",
      "0.9320512820512821\n"
     ]
    }
   ],
   "source": [
    "rf_model_2, trn_preds_2, tst_preds_2, \\\n",
    "trn_acc_2, tst_acc_2 = fit_predict_rf(X_train, X_test, y_train,\n",
    "                                      y_test, random_state=888,\n",
    "                                      n_estimators=50,\n",
    "                                      max_depth=None, \n",
    "                                      min_sample_leaf=1, \n",
    "                                      max_features='sqrt')"
   ]
  },
  {
   "cell_type": "code",
   "execution_count": 22,
   "metadata": {},
   "outputs": [
    {
     "name": "stdout",
     "output_type": "stream",
     "text": [
      "0.8715411398204141\n",
      "0.8491452991452991\n"
     ]
    }
   ],
   "source": [
    "rf_model_3, trn_preds_3, tst_preds_3, \\\n",
    "trn_acc_3, tst_acc_3 = fit_predict_rf(X_train, X_test, y_train,\n",
    "                                      y_test, random_state=888,\n",
    "                                      n_estimators=50, \n",
    "                                      max_depth=5, \n",
    "                                      min_sample_leaf=1, \n",
    "                                      max_features='sqrt')"
   ]
  },
  {
   "cell_type": "code",
   "execution_count": 23,
   "metadata": {},
   "outputs": [
    {
     "name": "stdout",
     "output_type": "stream",
     "text": [
      "0.9844236760124611\n",
      "0.9290598290598291\n"
     ]
    }
   ],
   "source": [
    "rf_model_4, trn_preds_4, tst_preds_4, \\\n",
    "trn_acc_4, tst_acc_4 = fit_predict_rf(X_train, X_test, y_train,\n",
    "                                      y_test, random_state=888,\n",
    "                                      n_estimators=50, \n",
    "                                      max_depth=10, \n",
    "                                      min_sample_leaf=1, \n",
    "                                      max_features='sqrt')"
   ]
  },
  {
   "cell_type": "code",
   "execution_count": 25,
   "metadata": {},
   "outputs": [
    {
     "name": "stdout",
     "output_type": "stream",
     "text": [
      "0.9844236760124611\n",
      "0.9290598290598291\n"
     ]
    }
   ],
   "source": [
    "rf_model_5, trn_preds_5, tst_preds_5, \\\n",
    "trn_acc_5, tst_acc_5 = fit_predict_rf(X_train, X_test, y_train,\n",
    "                                      y_test, random_state=888,\n",
    "                                      n_estimators=50, \n",
    "                                      max_depth=10, \n",
    "                                      min_sample_leaf=10, \n",
    "                                      max_features='sqrt')"
   ]
  },
  {
   "cell_type": "code",
   "execution_count": 26,
   "metadata": {},
   "outputs": [
    {
     "name": "stdout",
     "output_type": "stream",
     "text": [
      "0.9844236760124611\n",
      "0.9290598290598291\n"
     ]
    }
   ],
   "source": [
    "rf_model_6, trn_preds_6, tst_preds_6, \\\n",
    "trn_acc_6, tst_acc_6 = fit_predict_rf(X_train, X_test, y_train,\n",
    "                                      y_test, random_state=888,\n",
    "                                      n_estimators=50, \n",
    "                                      max_depth=10, \n",
    "                                      min_sample_leaf=50, \n",
    "                                      max_features='sqrt')"
   ]
  },
  {
   "cell_type": "code",
   "execution_count": 27,
   "metadata": {},
   "outputs": [
    {
     "name": "stdout",
     "output_type": "stream",
     "text": [
      "0.9756276342312626\n",
      "0.9166666666666666\n"
     ]
    }
   ],
   "source": [
    "rf_model_7, trn_preds_7, tst_preds_7, \\\n",
    "trn_acc_7, tst_acc_7 = fit_predict_rf(X_train, X_test, y_train,\n",
    "                                      y_test, random_state=888,\n",
    "                                      n_estimators=50, \n",
    "                                      max_depth=10, \n",
    "                                      min_sample_leaf=50,\n",
    "                                      max_features=0.5)"
   ]
  },
  {
   "cell_type": "code",
   "execution_count": 28,
   "metadata": {},
   "outputs": [
    {
     "name": "stdout",
     "output_type": "stream",
     "text": [
      "0.98094190947407\n",
      "0.9205128205128205\n"
     ]
    }
   ],
   "source": [
    "rf_model_8, trn_preds_8, tst_preds_8, \\\n",
    "trn_acc_8, tst_acc_8 = fit_predict_rf(X_train, X_test, y_train,\n",
    "                                      y_test, random_state=888,\n",
    "                                      n_estimators=50, \n",
    "                                      max_depth=10, \n",
    "                                      min_sample_leaf=50, \n",
    "                                      max_features=0.3)"
   ]
  }
 ],
 "metadata": {
  "kernelspec": {
   "display_name": "Python 3",
   "language": "python",
   "name": "python3"
  },
  "language_info": {
   "codemirror_mode": {
    "name": "ipython",
    "version": 3
   },
   "file_extension": ".py",
   "mimetype": "text/x-python",
   "name": "python",
   "nbconvert_exporter": "python",
   "pygments_lexer": "ipython3",
   "version": "3.10.9"
  },
  "orig_nbformat": 4
 },
 "nbformat": 4,
 "nbformat_minor": 2
}
